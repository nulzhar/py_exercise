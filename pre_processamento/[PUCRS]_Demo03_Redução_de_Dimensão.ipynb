{
 "cells": [
  {
   "cell_type": "markdown",
   "metadata": {
    "id": "XCjT6pbtcNwj"
   },
   "source": [
    "\n",
    "\n",
    "\n",
    "# Redução da Dimensionalidade "
   ]
  },
  {
   "cell_type": "markdown",
   "metadata": {
    "id": "FhThLzM_ecLL"
   },
   "source": [
    "Demonstração: reduzir a dimensão de determinantes socioeconômicos da realização de 7 ou mais consultas pré-natal nos municípios brasileiros"
   ]
  },
  {
   "cell_type": "code",
   "execution_count": 1,
   "metadata": {
    "id": "opRO2aOfcPjE"
   },
   "outputs": [],
   "source": [
    "import pandas as pd #biblioteca para processamento de dataframes em Python\n",
    "import numpy as np #biblioteca para processamento numérico em python\n",
    "\n",
    "from sklearn.preprocessing import scale # funcao de pre-processamento de dados\n",
    "\n",
    "# semente de aleatoriedade\n",
    "np.random.seed(42)"
   ]
  },
  {
   "cell_type": "code",
   "execution_count": 2,
   "metadata": {
    "id": "uMM0ck5RcRYg"
   },
   "outputs": [],
   "source": [
    "### leitura do arquivo CSV disponibilizado no google drive\n",
    "municipios = pd.read_csv('https://drive.google.com/uc?export=download&id=18jyOiEucdZxphxqL57iP4R66-0JdP_kU', sep=\";\")"
   ]
  },
  {
   "cell_type": "code",
   "execution_count": 3,
   "metadata": {
    "colab": {
     "base_uri": "https://localhost:8080/",
     "height": 204
    },
    "id": "mwmYtHwrciv0",
    "outputId": "5def32c2-eb15-457f-c6c9-3489873a3c98"
   },
   "outputs": [
    {
     "data": {
      "text/html": [
       "<div>\n",
       "<style scoped>\n",
       "    .dataframe tbody tr th:only-of-type {\n",
       "        vertical-align: middle;\n",
       "    }\n",
       "\n",
       "    .dataframe tbody tr th {\n",
       "        vertical-align: top;\n",
       "    }\n",
       "\n",
       "    .dataframe thead th {\n",
       "        text-align: right;\n",
       "    }\n",
       "</style>\n",
       "<table border=\"1\" class=\"dataframe\">\n",
       "  <thead>\n",
       "    <tr style=\"text-align: right;\">\n",
       "      <th></th>\n",
       "      <th>prenatal</th>\n",
       "      <th>renda</th>\n",
       "      <th>saneamento</th>\n",
       "      <th>desemprego</th>\n",
       "      <th>analfabet</th>\n",
       "      <th>Gini</th>\n",
       "      <th>fundamental</th>\n",
       "      <th>PIB_per_capita</th>\n",
       "    </tr>\n",
       "  </thead>\n",
       "  <tbody>\n",
       "    <tr>\n",
       "      <th>0</th>\n",
       "      <td>48.30</td>\n",
       "      <td>467.72</td>\n",
       "      <td>0.288858</td>\n",
       "      <td>5.01</td>\n",
       "      <td>12.0</td>\n",
       "      <td>0.5893</td>\n",
       "      <td>37.29</td>\n",
       "      <td>13760.40</td>\n",
       "    </tr>\n",
       "    <tr>\n",
       "      <th>1</th>\n",
       "      <td>54.04</td>\n",
       "      <td>672.87</td>\n",
       "      <td>1.174262</td>\n",
       "      <td>4.64</td>\n",
       "      <td>7.9</td>\n",
       "      <td>0.5496</td>\n",
       "      <td>51.30</td>\n",
       "      <td>14315.36</td>\n",
       "    </tr>\n",
       "    <tr>\n",
       "      <th>2</th>\n",
       "      <td>40.50</td>\n",
       "      <td>446.58</td>\n",
       "      <td>0.101266</td>\n",
       "      <td>2.49</td>\n",
       "      <td>13.8</td>\n",
       "      <td>0.5166</td>\n",
       "      <td>36.59</td>\n",
       "      <td>15745.16</td>\n",
       "    </tr>\n",
       "    <tr>\n",
       "      <th>3</th>\n",
       "      <td>59.42</td>\n",
       "      <td>718.79</td>\n",
       "      <td>40.103242</td>\n",
       "      <td>5.87</td>\n",
       "      <td>8.3</td>\n",
       "      <td>0.5890</td>\n",
       "      <td>48.49</td>\n",
       "      <td>14870.59</td>\n",
       "    </tr>\n",
       "    <tr>\n",
       "      <th>4</th>\n",
       "      <td>52.52</td>\n",
       "      <td>553.47</td>\n",
       "      <td>0.093493</td>\n",
       "      <td>5.24</td>\n",
       "      <td>10.4</td>\n",
       "      <td>0.5147</td>\n",
       "      <td>44.23</td>\n",
       "      <td>15997.56</td>\n",
       "    </tr>\n",
       "  </tbody>\n",
       "</table>\n",
       "</div>"
      ],
      "text/plain": [
       "   prenatal   renda  saneamento  desemprego  analfabet    Gini  fundamental  \\\n",
       "0     48.30  467.72    0.288858        5.01       12.0  0.5893        37.29   \n",
       "1     54.04  672.87    1.174262        4.64        7.9  0.5496        51.30   \n",
       "2     40.50  446.58    0.101266        2.49       13.8  0.5166        36.59   \n",
       "3     59.42  718.79   40.103242        5.87        8.3  0.5890        48.49   \n",
       "4     52.52  553.47    0.093493        5.24       10.4  0.5147        44.23   \n",
       "\n",
       "   PIB_per_capita  \n",
       "0        13760.40  \n",
       "1        14315.36  \n",
       "2        15745.16  \n",
       "3        14870.59  \n",
       "4        15997.56  "
      ]
     },
     "execution_count": 3,
     "metadata": {},
     "output_type": "execute_result"
    }
   ],
   "source": [
    "# lista top 5 registros\n",
    "municipios.head()"
   ]
  },
  {
   "cell_type": "code",
   "execution_count": 4,
   "metadata": {
    "id": "_sYLH1AXdn1e"
   },
   "outputs": [],
   "source": [
    "# biblioteca para geracao de graficos em Python\n",
    "import matplotlib.pyplot as plt\n",
    "# informamos que estamos usando o notebook\n",
    "%matplotlib inline\n"
   ]
  },
  {
   "cell_type": "code",
   "execution_count": 5,
   "metadata": {
    "id": "0geHfwjpdup4"
   },
   "outputs": [],
   "source": [
    "# importamos a funcao PCA da biblioteca scikit-learn\n",
    "from sklearn.decomposition import PCA\n",
    "from sklearn.preprocessing import scale"
   ]
  },
  {
   "cell_type": "code",
   "execution_count": 6,
   "metadata": {
    "id": "31U0GmCUdzGp"
   },
   "outputs": [],
   "source": [
    "# criamos a funcao\n",
    "pca = PCA(random_state=42)"
   ]
  },
  {
   "cell_type": "code",
   "execution_count": 7,
   "metadata": {
    "id": "vcD-pE-ueo5A"
   },
   "outputs": [],
   "source": [
    "# ajustamos os dados, ignoramos a variavel 'pre-natal' (variavel de interesse)\n",
    "municipios_scaled = scale(municipios.drop(['prenatal'], axis=1))\n",
    "\n"
   ]
  },
  {
   "cell_type": "code",
   "execution_count": 8,
   "metadata": {
    "colab": {
     "base_uri": "https://localhost:8080/",
     "height": 51
    },
    "id": "V3lWqhFed20q",
    "outputId": "987a4bfa-38d4-40bd-aecc-6a6067eebf6c"
   },
   "outputs": [
    {
     "data": {
      "text/plain": [
       "PCA(random_state=42)"
      ]
     },
     "execution_count": 8,
     "metadata": {},
     "output_type": "execute_result"
    }
   ],
   "source": [
    "# executamos o PCA\n",
    "pca.fit(municipios_scaled)"
   ]
  },
  {
   "cell_type": "code",
   "execution_count": null,
   "metadata": {
    "colab": {
     "base_uri": "https://localhost:8080/",
     "height": 51
    },
    "id": "LSaA34CGSuso",
    "outputId": "ca3e70df-f232-4982-8e6d-d092601da6c3"
   },
   "outputs": [
    {
     "name": "stdout",
     "output_type": "stream",
     "text": [
      "Eigenvalues =  [3.37348941 1.19313218 0.87576566 0.68734261 0.52950922 0.17949657\n",
      " 0.16252244]\n"
     ]
    }
   ],
   "source": [
    "# No scikit-learn o valor dos EigenValues ficam armazenados em explained_variance_\n",
    "print('Eigenvalues = ', pca.explained_variance_)"
   ]
  },
  {
   "cell_type": "code",
   "execution_count": null,
   "metadata": {
    "colab": {
     "base_uri": "https://localhost:8080/",
     "height": 299
    },
    "id": "RiiVD161T3tX",
    "outputId": "b77e3a43-73d3-4f02-aeba-8feda79eb3e4"
   },
   "outputs": [
    {
     "data": {
      "text/plain": [
       "[]"
      ]
     },
     "execution_count": 10,
     "metadata": {
      "tags": []
     },
     "output_type": "execute_result"
    },
    {
     "data": {
      "image/png": "[encoded data removed]",
      "text/plain": [
       "<Figure size 432x288 with 1 Axes>"
      ]
     },
     "metadata": {
      "needs_background": "light",
      "tags": []
     },
     "output_type": "display_data"
    }
   ],
   "source": [
    "x = np.arange(pca.explained_variance_.shape[0]) + 1\n",
    "plt.plot(x, pca.explained_variance_)\n",
    "plt.axhline(1.0, color = 'black', linestyle = '--', linewidth = 2)\n",
    "plt.xlabel('número de componentes')\n",
    "plt.ylabel('eigenvalues')\n",
    "plt.plot()"
   ]
  },
  {
   "cell_type": "code",
   "execution_count": null,
   "metadata": {
    "colab": {
     "base_uri": "https://localhost:8080/",
     "height": 297
    },
    "id": "ySTepCu0iRNt",
    "outputId": "f59ca8e9-4824-4252-f24c-bd8efa1f68cb"
   },
   "outputs": [
    {
     "data": {
      "text/plain": [
       "[]"
      ]
     },
     "execution_count": 11,
     "metadata": {
      "tags": []
     },
     "output_type": "execute_result"
    },
    {
     "data": {
      "image/png": "[encoded data removed]",
      "text/plain": [
       "<Figure size 432x288 with 1 Axes>"
      ]
     },
     "metadata": {
      "needs_background": "light",
      "tags": []
     },
     "output_type": "display_data"
    }
   ],
   "source": [
    "x = np.arange(pca.explained_variance_.shape[0]) + 1\n",
    "plt.plot(x, np.cumsum(pca.explained_variance_ratio_))\n",
    "plt.axhline(1.0, color = 'black', linestyle = '--', linewidth = 2)\n",
    "plt.xlabel('número de componentes')\n",
    "plt.ylabel('variância')\n",
    "plt.plot()"
   ]
  },
  {
   "cell_type": "code",
   "execution_count": null,
   "metadata": {
    "colab": {
     "base_uri": "https://localhost:8080/",
     "height": 34
    },
    "id": "b42MJ1rehmrV",
    "outputId": "d4a4f0c1-ff43-485b-c723-c4d85be1614b"
   },
   "outputs": [
    {
     "name": "stdout",
     "output_type": "stream",
     "text": [
      "numero minimo de componentes de modo a preservar 95% da variância do conjunto de dados:  5\n"
     ]
    }
   ],
   "source": [
    "cumsum = np.cumsum(pca.explained_variance_ratio_)\n",
    "d = np.argmax(cumsum >= 0.95) + 1\n",
    "print('numero minimo de componentes de modo a preservar 95% da variância do conjunto de dados: ',  d)"
   ]
  },
  {
   "cell_type": "code",
   "execution_count": null,
   "metadata": {
    "colab": {
     "base_uri": "https://localhost:8080/",
     "height": 419
    },
    "id": "krSmMwgrXG2r",
    "outputId": "31932137-8468-47c3-d385-771a559d3746"
   },
   "outputs": [
    {
     "data": {
      "text/html": [
       "<div>\n",
       "<style scoped>\n",
       "    .dataframe tbody tr th:only-of-type {\n",
       "        vertical-align: middle;\n",
       "    }\n",
       "\n",
       "    .dataframe tbody tr th {\n",
       "        vertical-align: top;\n",
       "    }\n",
       "\n",
       "    .dataframe thead th {\n",
       "        text-align: right;\n",
       "    }\n",
       "</style>\n",
       "<table border=\"1\" class=\"dataframe\">\n",
       "  <thead>\n",
       "    <tr style=\"text-align: right;\">\n",
       "      <th></th>\n",
       "      <th>0</th>\n",
       "      <th>1</th>\n",
       "    </tr>\n",
       "  </thead>\n",
       "  <tbody>\n",
       "    <tr>\n",
       "      <th>0</th>\n",
       "      <td>-0.490076</td>\n",
       "      <td>-0.165627</td>\n",
       "    </tr>\n",
       "    <tr>\n",
       "      <th>1</th>\n",
       "      <td>0.968842</td>\n",
       "      <td>-0.124104</td>\n",
       "    </tr>\n",
       "    <tr>\n",
       "      <th>2</th>\n",
       "      <td>-0.196800</td>\n",
       "      <td>-1.134865</td>\n",
       "    </tr>\n",
       "    <tr>\n",
       "      <th>3</th>\n",
       "      <td>1.086161</td>\n",
       "      <td>0.759095</td>\n",
       "    </tr>\n",
       "    <tr>\n",
       "      <th>4</th>\n",
       "      <td>0.411981</td>\n",
       "      <td>-0.384681</td>\n",
       "    </tr>\n",
       "    <tr>\n",
       "      <th>...</th>\n",
       "      <td>...</td>\n",
       "      <td>...</td>\n",
       "    </tr>\n",
       "    <tr>\n",
       "      <th>5560</th>\n",
       "      <td>0.949837</td>\n",
       "      <td>-1.064450</td>\n",
       "    </tr>\n",
       "    <tr>\n",
       "      <th>5561</th>\n",
       "      <td>0.309610</td>\n",
       "      <td>-0.632137</td>\n",
       "    </tr>\n",
       "    <tr>\n",
       "      <th>5562</th>\n",
       "      <td>-0.439939</td>\n",
       "      <td>0.129597</td>\n",
       "    </tr>\n",
       "    <tr>\n",
       "      <th>5563</th>\n",
       "      <td>-0.720960</td>\n",
       "      <td>-1.086714</td>\n",
       "    </tr>\n",
       "    <tr>\n",
       "      <th>5564</th>\n",
       "      <td>5.383605</td>\n",
       "      <td>2.820995</td>\n",
       "    </tr>\n",
       "  </tbody>\n",
       "</table>\n",
       "<p>5565 rows × 2 columns</p>\n",
       "</div>"
      ],
      "text/plain": [
       "             0         1\n",
       "0    -0.490076 -0.165627\n",
       "1     0.968842 -0.124104\n",
       "2    -0.196800 -1.134865\n",
       "3     1.086161  0.759095\n",
       "4     0.411981 -0.384681\n",
       "...        ...       ...\n",
       "5560  0.949837 -1.064450\n",
       "5561  0.309610 -0.632137\n",
       "5562 -0.439939  0.129597\n",
       "5563 -0.720960 -1.086714\n",
       "5564  5.383605  2.820995\n",
       "\n",
       "[5565 rows x 2 columns]"
      ]
     },
     "execution_count": 13,
     "metadata": {
      "tags": []
     },
     "output_type": "execute_result"
    }
   ],
   "source": [
    "pca_fitted = PCA(n_components=2, random_state=42)\n",
    "\n",
    "res_dataset = pd.DataFrame(pca_fitted.fit_transform(municipios_scaled))\n",
    "res_dataset"
   ]
  },
  {
   "cell_type": "markdown",
   "metadata": {
    "id": "DuLptirMXYsr"
   },
   "source": [
    "novo dataset:"
   ]
  },
  {
   "cell_type": "markdown",
   "metadata": {
    "id": "Phm--aH6WeY6"
   },
   "source": [
    "EXTRA: PCA - Conferência numérica"
   ]
  },
  {
   "cell_type": "code",
   "execution_count": null,
   "metadata": {
    "colab": {
     "base_uri": "https://localhost:8080/",
     "height": 266
    },
    "id": "iHNQ8pkDjHZs",
    "outputId": "9d5501cc-fbad-4a32-f94f-5a1edff0601a"
   },
   "outputs": [
    {
     "data": {
      "text/html": [
       "<div>\n",
       "<style scoped>\n",
       "    .dataframe tbody tr th:only-of-type {\n",
       "        vertical-align: middle;\n",
       "    }\n",
       "\n",
       "    .dataframe tbody tr th {\n",
       "        vertical-align: top;\n",
       "    }\n",
       "\n",
       "    .dataframe thead th {\n",
       "        text-align: right;\n",
       "    }\n",
       "</style>\n",
       "<table border=\"1\" class=\"dataframe\">\n",
       "  <thead>\n",
       "    <tr style=\"text-align: right;\">\n",
       "      <th></th>\n",
       "      <th>PC1</th>\n",
       "      <th>PC2</th>\n",
       "    </tr>\n",
       "  </thead>\n",
       "  <tbody>\n",
       "    <tr>\n",
       "      <th>renda</th>\n",
       "      <td>0.904294</td>\n",
       "      <td>-0.035419</td>\n",
       "    </tr>\n",
       "    <tr>\n",
       "      <th>saneamento</th>\n",
       "      <td>0.557631</td>\n",
       "      <td>0.407738</td>\n",
       "    </tr>\n",
       "    <tr>\n",
       "      <th>desemprego</th>\n",
       "      <td>-0.347714</td>\n",
       "      <td>0.838828</td>\n",
       "    </tr>\n",
       "    <tr>\n",
       "      <th>analfabet</th>\n",
       "      <td>-0.903455</td>\n",
       "      <td>0.044404</td>\n",
       "    </tr>\n",
       "    <tr>\n",
       "      <th>Gini</th>\n",
       "      <td>-0.478634</td>\n",
       "      <td>0.448735</td>\n",
       "    </tr>\n",
       "    <tr>\n",
       "      <th>fundamental</th>\n",
       "      <td>0.847711</td>\n",
       "      <td>0.313862</td>\n",
       "    </tr>\n",
       "    <tr>\n",
       "      <th>PIB_per_capita</th>\n",
       "      <td>0.599960</td>\n",
       "      <td>0.141953</td>\n",
       "    </tr>\n",
       "  </tbody>\n",
       "</table>\n",
       "</div>"
      ],
      "text/plain": [
       "                     PC1       PC2\n",
       "renda           0.904294 -0.035419\n",
       "saneamento      0.557631  0.407738\n",
       "desemprego     -0.347714  0.838828\n",
       "analfabet      -0.903455  0.044404\n",
       "Gini           -0.478634  0.448735\n",
       "fundamental     0.847711  0.313862\n",
       "PIB_per_capita  0.599960  0.141953"
      ]
     },
     "execution_count": 14,
     "metadata": {
      "tags": []
     },
     "output_type": "execute_result"
    }
   ],
   "source": [
    "pd.DataFrame(pca_fitted.components_.T * np.sqrt(pca_fitted.explained_variance_), columns=['PC1', 'PC2'],  index=municipios.drop(['prenatal'], axis=1).columns.values)"
   ]
  },
  {
   "cell_type": "code",
   "execution_count": null,
   "metadata": {
    "id": "-DO3x-FEvaaJ"
   },
   "outputs": [],
   "source": [
    "res_dataset['outcome'] = scale(municipios['prenatal'])"
   ]
  },
  {
   "cell_type": "code",
   "execution_count": null,
   "metadata": {
    "colab": {
     "base_uri": "https://localhost:8080/",
     "height": 204
    },
    "id": "3UHSBZBawEys",
    "outputId": "c5beab9a-9efa-4651-c9bf-25f20d47ce76"
   },
   "outputs": [
    {
     "data": {
      "text/html": [
       "<div>\n",
       "<style scoped>\n",
       "    .dataframe tbody tr th:only-of-type {\n",
       "        vertical-align: middle;\n",
       "    }\n",
       "\n",
       "    .dataframe tbody tr th {\n",
       "        vertical-align: top;\n",
       "    }\n",
       "\n",
       "    .dataframe thead th {\n",
       "        text-align: right;\n",
       "    }\n",
       "</style>\n",
       "<table border=\"1\" class=\"dataframe\">\n",
       "  <thead>\n",
       "    <tr style=\"text-align: right;\">\n",
       "      <th></th>\n",
       "      <th>0</th>\n",
       "      <th>1</th>\n",
       "      <th>outcome</th>\n",
       "    </tr>\n",
       "  </thead>\n",
       "  <tbody>\n",
       "    <tr>\n",
       "      <th>0</th>\n",
       "      <td>-0.490076</td>\n",
       "      <td>-0.165627</td>\n",
       "      <td>-0.590769</td>\n",
       "    </tr>\n",
       "    <tr>\n",
       "      <th>1</th>\n",
       "      <td>0.968842</td>\n",
       "      <td>-0.124104</td>\n",
       "      <td>-0.307365</td>\n",
       "    </tr>\n",
       "    <tr>\n",
       "      <th>2</th>\n",
       "      <td>-0.196800</td>\n",
       "      <td>-1.134865</td>\n",
       "      <td>-0.975883</td>\n",
       "    </tr>\n",
       "    <tr>\n",
       "      <th>3</th>\n",
       "      <td>1.086161</td>\n",
       "      <td>0.759095</td>\n",
       "      <td>-0.041736</td>\n",
       "    </tr>\n",
       "    <tr>\n",
       "      <th>4</th>\n",
       "      <td>0.411981</td>\n",
       "      <td>-0.384681</td>\n",
       "      <td>-0.382413</td>\n",
       "    </tr>\n",
       "  </tbody>\n",
       "</table>\n",
       "</div>"
      ],
      "text/plain": [
       "          0         1   outcome\n",
       "0 -0.490076 -0.165627 -0.590769\n",
       "1  0.968842 -0.124104 -0.307365\n",
       "2 -0.196800 -1.134865 -0.975883\n",
       "3  1.086161  0.759095 -0.041736\n",
       "4  0.411981 -0.384681 -0.382413"
      ]
     },
     "execution_count": 16,
     "metadata": {
      "tags": []
     },
     "output_type": "execute_result"
    }
   ],
   "source": [
    "res_dataset.head()"
   ]
  },
  {
   "cell_type": "code",
   "execution_count": null,
   "metadata": {
    "colab": {
     "base_uri": "https://localhost:8080/",
     "height": 142
    },
    "id": "NUt5njH8vbkQ",
    "outputId": "8e9aedbf-1e8d-453e-8abf-af8d4727885e"
   },
   "outputs": [
    {
     "data": {
      "text/html": [
       "<div>\n",
       "<style scoped>\n",
       "    .dataframe tbody tr th:only-of-type {\n",
       "        vertical-align: middle;\n",
       "    }\n",
       "\n",
       "    .dataframe tbody tr th {\n",
       "        vertical-align: top;\n",
       "    }\n",
       "\n",
       "    .dataframe thead th {\n",
       "        text-align: right;\n",
       "    }\n",
       "</style>\n",
       "<table border=\"1\" class=\"dataframe\">\n",
       "  <thead>\n",
       "    <tr style=\"text-align: right;\">\n",
       "      <th></th>\n",
       "      <th>0</th>\n",
       "      <th>1</th>\n",
       "      <th>outcome</th>\n",
       "    </tr>\n",
       "  </thead>\n",
       "  <tbody>\n",
       "    <tr>\n",
       "      <th>0</th>\n",
       "      <td>1.000000e+00</td>\n",
       "      <td>-3.683920e-16</td>\n",
       "      <td>0.681355</td>\n",
       "    </tr>\n",
       "    <tr>\n",
       "      <th>1</th>\n",
       "      <td>-3.683920e-16</td>\n",
       "      <td>1.000000e+00</td>\n",
       "      <td>-0.232855</td>\n",
       "    </tr>\n",
       "    <tr>\n",
       "      <th>outcome</th>\n",
       "      <td>6.813548e-01</td>\n",
       "      <td>-2.328551e-01</td>\n",
       "      <td>1.000000</td>\n",
       "    </tr>\n",
       "  </tbody>\n",
       "</table>\n",
       "</div>"
      ],
      "text/plain": [
       "                    0             1   outcome\n",
       "0        1.000000e+00 -3.683920e-16  0.681355\n",
       "1       -3.683920e-16  1.000000e+00 -0.232855\n",
       "outcome  6.813548e-01 -2.328551e-01  1.000000"
      ]
     },
     "execution_count": 17,
     "metadata": {
      "tags": []
     },
     "output_type": "execute_result"
    }
   ],
   "source": [
    "res_dataset.corr()"
   ]
  }
 ],
 "metadata": {
  "colab": {
   "collapsed_sections": [],
   "name": "[PUCRS] Demo03: Redução_de_Dimensão.ipynb",
   "provenance": []
  },
  "kernelspec": {
   "display_name": "Python 3",
   "language": "python",
   "name": "python3"
  },
  "language_info": {
   "codemirror_mode": {
    "name": "ipython",
    "version": 3
   },
   "file_extension": ".py",
   "mimetype": "text/x-python",
   "name": "python",
   "nbconvert_exporter": "python",
   "pygments_lexer": "ipython3",
   "version": "3.8.3"
  }
 },
 "nbformat": 4,
 "nbformat_minor": 4
}
