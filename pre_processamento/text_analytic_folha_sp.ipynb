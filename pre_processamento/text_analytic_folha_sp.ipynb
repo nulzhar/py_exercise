{
 "cells": [
  {
   "cell_type": "code",
   "execution_count": null,
   "source": [
    "#!pip install spacy pyLDAvis"
   ],
   "outputs": [],
   "metadata": {}
  },
  {
   "cell_type": "code",
   "execution_count": null,
   "source": [
    "#!python -m spacy download pt_core_news_sm\r\n",
    "#!pip install matplotlib\r\n",
    "#!pip install nltk\r\n",
    "#!pip install sklearn"
   ],
   "outputs": [],
   "metadata": {}
  },
  {
   "cell_type": "code",
   "execution_count": null,
   "source": [
    "import pandas as pd\r\n",
    "import matplotlib.pyplot as plt\r\n",
    "import spacy\r\n",
    "import nltk\r\n",
    "import re\r\n",
    "from nltk import word_tokenize\r\n",
    "from nltk.util import ngrams\r\n",
    "from sklearn.decomposition import LatentDirichletAllocation\r\n",
    "from sklearn.feature_extraction.text import CountVectorizer\r\n",
    "from collections import Counter"
   ],
   "outputs": [],
   "metadata": {}
  },
  {
   "cell_type": "code",
   "execution_count": null,
   "source": [
    "nltk.download('punkt')"
   ],
   "outputs": [],
   "metadata": {}
  },
  {
   "cell_type": "markdown",
   "source": [
    "# CONJUNTO DE DADOS"
   ],
   "metadata": {}
  },
  {
   "cell_type": "code",
   "execution_count": null,
   "source": [
    "news = pd.read_csv('articles.csv')\r\n",
    "news.head()"
   ],
   "outputs": [],
   "metadata": {}
  },
  {
   "cell_type": "code",
   "execution_count": null,
   "source": [
    "turismo = news[news['category'] == 'turismo']\r\n",
    "turismo.info()"
   ],
   "outputs": [],
   "metadata": {}
  },
  {
   "cell_type": "code",
   "execution_count": null,
   "source": [
    "def limpa_texto(texto):\r\n",
    "    c = re.sub(r'\\n', ' ', texto)\r\n",
    "    c = re.sub(r'\\r', ' ', c)\r\n",
    "\r\n",
    "    c = c.replace(':', '')\r\n",
    "    c = c.replace('/', '')\r\n",
    "    c = re.sub(r'R\\$', '', c) # Removendo moeda\r\n",
    "    c = re.sub(r'\\W', '', c) # Removendo alfanúmerico\r\n",
    "\r\n",
    "    c = re.sub(r'\\s+', ' ', c) # Removendo multiplo espaço\r\n",
    "    c = re.sub(r'^\\s+', '', c) # Limpando espaço no início\r\n",
    "    c = re.sub(r'\\s+$', '', c) # Limpando espaço no final\r\n",
    "\r\n",
    "    return c.lower()\r\n",
    "\r\n"
   ],
   "outputs": [],
   "metadata": {}
  },
  {
   "cell_type": "code",
   "execution_count": null,
   "source": [
    "from spacy.lang.pt import Portuguese"
   ],
   "outputs": [],
   "metadata": {}
  },
  {
   "cell_type": "code",
   "execution_count": null,
   "source": [
    "STOP_WORDS = spacy.lang.pt.stop_words.STOP_WORDS"
   ],
   "outputs": [],
   "metadata": {}
  },
  {
   "cell_type": "code",
   "execution_count": null,
   "source": [
    "def remove_stop(texto):\r\n",
    "    doc = nlp_pt(texto)\r\n",
    "    return \" \".join(x.text for x in doc if x.text not in STOP_WORDS)"
   ],
   "outputs": [],
   "metadata": {}
  },
  {
   "cell_type": "code",
   "execution_count": null,
   "source": [
    "def limpa_texto2(texto):\r\n",
    "    doc = nlp_pt(texto)\r\n",
    "    return \" \".join(x.lemma_ for x in doc if x.text not in STOP_WORDS)"
   ],
   "outputs": [],
   "metadata": {}
  },
  {
   "cell_type": "markdown",
   "source": [
    "# Análise Exploratória"
   ],
   "metadata": {}
  },
  {
   "cell_type": "markdown",
   "source": [
    "1. número de palavras no título das notícias"
   ],
   "metadata": {}
  },
  {
   "cell_type": "code",
   "execution_count": null,
   "source": [
    "turismo['title_n_words'] = turismo['title'].apply(lambda x : len(x.split()))"
   ],
   "outputs": [],
   "metadata": {}
  },
  {
   "cell_type": "code",
   "execution_count": null,
   "source": [
    "turismo.head()"
   ],
   "outputs": [],
   "metadata": {}
  },
  {
   "cell_type": "code",
   "execution_count": 14,
   "source": [
    "turismo.describe()"
   ],
   "outputs": [
    {
     "output_type": "execute_result",
     "data": {
      "text/plain": [
       "       title_n_words\n",
       "count    1903.000000\n",
       "mean       10.923805\n",
       "std         1.812440\n",
       "min         4.000000\n",
       "25%        10.000000\n",
       "50%        11.000000\n",
       "75%        12.000000\n",
       "max        20.000000"
      ],
      "text/html": [
       "<div>\n",
       "<style scoped>\n",
       "    .dataframe tbody tr th:only-of-type {\n",
       "        vertical-align: middle;\n",
       "    }\n",
       "\n",
       "    .dataframe tbody tr th {\n",
       "        vertical-align: top;\n",
       "    }\n",
       "\n",
       "    .dataframe thead th {\n",
       "        text-align: right;\n",
       "    }\n",
       "</style>\n",
       "<table border=\"1\" class=\"dataframe\">\n",
       "  <thead>\n",
       "    <tr style=\"text-align: right;\">\n",
       "      <th></th>\n",
       "      <th>title_n_words</th>\n",
       "    </tr>\n",
       "  </thead>\n",
       "  <tbody>\n",
       "    <tr>\n",
       "      <th>count</th>\n",
       "      <td>1903.000000</td>\n",
       "    </tr>\n",
       "    <tr>\n",
       "      <th>mean</th>\n",
       "      <td>10.923805</td>\n",
       "    </tr>\n",
       "    <tr>\n",
       "      <th>std</th>\n",
       "      <td>1.812440</td>\n",
       "    </tr>\n",
       "    <tr>\n",
       "      <th>min</th>\n",
       "      <td>4.000000</td>\n",
       "    </tr>\n",
       "    <tr>\n",
       "      <th>25%</th>\n",
       "      <td>10.000000</td>\n",
       "    </tr>\n",
       "    <tr>\n",
       "      <th>50%</th>\n",
       "      <td>11.000000</td>\n",
       "    </tr>\n",
       "    <tr>\n",
       "      <th>75%</th>\n",
       "      <td>12.000000</td>\n",
       "    </tr>\n",
       "    <tr>\n",
       "      <th>max</th>\n",
       "      <td>20.000000</td>\n",
       "    </tr>\n",
       "  </tbody>\n",
       "</table>\n",
       "</div>"
      ]
     },
     "metadata": {},
     "execution_count": 14
    }
   ],
   "metadata": {}
  },
  {
   "cell_type": "markdown",
   "source": [
    "2. Número de caracteres no título das notícias"
   ],
   "metadata": {}
  },
  {
   "cell_type": "code",
   "execution_count": 15,
   "source": [
    "turismo['title_n_chars'] = turismo['title'].apply(lambda x : len(x.replace(\" \", \"\")))"
   ],
   "outputs": [
    {
     "output_type": "stream",
     "name": "stderr",
     "text": [
      "C:\\Users\\filip\\.pyenv\\pyenv-win\\versions\\3.7.2\\lib\\site-packages\\ipykernel_launcher.py:1: SettingWithCopyWarning: \n",
      "A value is trying to be set on a copy of a slice from a DataFrame.\n",
      "Try using .loc[row_indexer,col_indexer] = value instead\n",
      "\n",
      "See the caveats in the documentation: https://pandas.pydata.org/pandas-docs/stable/user_guide/indexing.html#returning-a-view-versus-a-copy\n",
      "  \"\"\"Entry point for launching an IPython kernel.\n"
     ]
    }
   ],
   "metadata": {}
  },
  {
   "cell_type": "code",
   "execution_count": 16,
   "source": [
    "turismo.head()"
   ],
   "outputs": [
    {
     "output_type": "execute_result",
     "data": {
      "text/plain": [
       "                                                 title  \\\n",
       "381  Latam inaugura voo direto de 15 horas entre Ch...   \n",
       "414  Turismo de Las Vegas deve se recuperar em mese...   \n",
       "522  Brasileiro cria app para economizar no passeio...   \n",
       "602       AirBnB passa a fazer reserva de restaurantes   \n",
       "609  Museus lembram quatro décadas de opressão sovi...   \n",
       "\n",
       "                                                  text        date category  \\\n",
       "381  Animem-se os que pretendem cruzar o Pacífico e...  2017-06-10  turismo   \n",
       "414  O massacre em Las Vegas afetará o turismo da c...  2017-06-10  turismo   \n",
       "522  Com cerca de 50 mil visitantes por dia, Veneza...  2017-05-10  turismo   \n",
       "602  A plataforma de hospedagem Airbnb anunciou que...  2017-05-10  turismo   \n",
       "609  Nos países que viveram sob a órbita da União S...  2017-05-10  turismo   \n",
       "\n",
       "    subcategory                                               link  \\\n",
       "381         NaN  http://www1.folha.uol.com.br/turismo/2017/10/1...   \n",
       "414         NaN  http://www1.folha.uol.com.br/turismo/2017/10/1...   \n",
       "522         NaN  http://www1.folha.uol.com.br/turismo/2017/10/1...   \n",
       "602         NaN  http://www1.folha.uol.com.br/turismo/2017/10/1...   \n",
       "609         NaN  http://www1.folha.uol.com.br/turismo/2017/10/1...   \n",
       "\n",
       "     title_n_words  title_n_chars  \n",
       "381             11             51  \n",
       "414             11             54  \n",
       "522             11             58  \n",
       "602              7             38  \n",
       "609             10             62  "
      ],
      "text/html": [
       "<div>\n",
       "<style scoped>\n",
       "    .dataframe tbody tr th:only-of-type {\n",
       "        vertical-align: middle;\n",
       "    }\n",
       "\n",
       "    .dataframe tbody tr th {\n",
       "        vertical-align: top;\n",
       "    }\n",
       "\n",
       "    .dataframe thead th {\n",
       "        text-align: right;\n",
       "    }\n",
       "</style>\n",
       "<table border=\"1\" class=\"dataframe\">\n",
       "  <thead>\n",
       "    <tr style=\"text-align: right;\">\n",
       "      <th></th>\n",
       "      <th>title</th>\n",
       "      <th>text</th>\n",
       "      <th>date</th>\n",
       "      <th>category</th>\n",
       "      <th>subcategory</th>\n",
       "      <th>link</th>\n",
       "      <th>title_n_words</th>\n",
       "      <th>title_n_chars</th>\n",
       "    </tr>\n",
       "  </thead>\n",
       "  <tbody>\n",
       "    <tr>\n",
       "      <th>381</th>\n",
       "      <td>Latam inaugura voo direto de 15 horas entre Ch...</td>\n",
       "      <td>Animem-se os que pretendem cruzar o Pacífico e...</td>\n",
       "      <td>2017-06-10</td>\n",
       "      <td>turismo</td>\n",
       "      <td>NaN</td>\n",
       "      <td>http://www1.folha.uol.com.br/turismo/2017/10/1...</td>\n",
       "      <td>11</td>\n",
       "      <td>51</td>\n",
       "    </tr>\n",
       "    <tr>\n",
       "      <th>414</th>\n",
       "      <td>Turismo de Las Vegas deve se recuperar em mese...</td>\n",
       "      <td>O massacre em Las Vegas afetará o turismo da c...</td>\n",
       "      <td>2017-06-10</td>\n",
       "      <td>turismo</td>\n",
       "      <td>NaN</td>\n",
       "      <td>http://www1.folha.uol.com.br/turismo/2017/10/1...</td>\n",
       "      <td>11</td>\n",
       "      <td>54</td>\n",
       "    </tr>\n",
       "    <tr>\n",
       "      <th>522</th>\n",
       "      <td>Brasileiro cria app para economizar no passeio...</td>\n",
       "      <td>Com cerca de 50 mil visitantes por dia, Veneza...</td>\n",
       "      <td>2017-05-10</td>\n",
       "      <td>turismo</td>\n",
       "      <td>NaN</td>\n",
       "      <td>http://www1.folha.uol.com.br/turismo/2017/10/1...</td>\n",
       "      <td>11</td>\n",
       "      <td>58</td>\n",
       "    </tr>\n",
       "    <tr>\n",
       "      <th>602</th>\n",
       "      <td>AirBnB passa a fazer reserva de restaurantes</td>\n",
       "      <td>A plataforma de hospedagem Airbnb anunciou que...</td>\n",
       "      <td>2017-05-10</td>\n",
       "      <td>turismo</td>\n",
       "      <td>NaN</td>\n",
       "      <td>http://www1.folha.uol.com.br/turismo/2017/10/1...</td>\n",
       "      <td>7</td>\n",
       "      <td>38</td>\n",
       "    </tr>\n",
       "    <tr>\n",
       "      <th>609</th>\n",
       "      <td>Museus lembram quatro décadas de opressão sovi...</td>\n",
       "      <td>Nos países que viveram sob a órbita da União S...</td>\n",
       "      <td>2017-05-10</td>\n",
       "      <td>turismo</td>\n",
       "      <td>NaN</td>\n",
       "      <td>http://www1.folha.uol.com.br/turismo/2017/10/1...</td>\n",
       "      <td>10</td>\n",
       "      <td>62</td>\n",
       "    </tr>\n",
       "  </tbody>\n",
       "</table>\n",
       "</div>"
      ]
     },
     "metadata": {},
     "execution_count": 16
    }
   ],
   "metadata": {}
  },
  {
   "cell_type": "code",
   "execution_count": 17,
   "source": [
    "turismo.describe()"
   ],
   "outputs": [
    {
     "output_type": "execute_result",
     "data": {
      "text/plain": [
       "       title_n_words  title_n_chars\n",
       "count    1903.000000    1903.000000\n",
       "mean       10.923805      55.666842\n",
       "std         1.812440       6.309523\n",
       "min         4.000000      25.000000\n",
       "25%        10.000000      52.000000\n",
       "50%        11.000000      57.000000\n",
       "75%        12.000000      60.000000\n",
       "max        20.000000      87.000000"
      ],
      "text/html": [
       "<div>\n",
       "<style scoped>\n",
       "    .dataframe tbody tr th:only-of-type {\n",
       "        vertical-align: middle;\n",
       "    }\n",
       "\n",
       "    .dataframe tbody tr th {\n",
       "        vertical-align: top;\n",
       "    }\n",
       "\n",
       "    .dataframe thead th {\n",
       "        text-align: right;\n",
       "    }\n",
       "</style>\n",
       "<table border=\"1\" class=\"dataframe\">\n",
       "  <thead>\n",
       "    <tr style=\"text-align: right;\">\n",
       "      <th></th>\n",
       "      <th>title_n_words</th>\n",
       "      <th>title_n_chars</th>\n",
       "    </tr>\n",
       "  </thead>\n",
       "  <tbody>\n",
       "    <tr>\n",
       "      <th>count</th>\n",
       "      <td>1903.000000</td>\n",
       "      <td>1903.000000</td>\n",
       "    </tr>\n",
       "    <tr>\n",
       "      <th>mean</th>\n",
       "      <td>10.923805</td>\n",
       "      <td>55.666842</td>\n",
       "    </tr>\n",
       "    <tr>\n",
       "      <th>std</th>\n",
       "      <td>1.812440</td>\n",
       "      <td>6.309523</td>\n",
       "    </tr>\n",
       "    <tr>\n",
       "      <th>min</th>\n",
       "      <td>4.000000</td>\n",
       "      <td>25.000000</td>\n",
       "    </tr>\n",
       "    <tr>\n",
       "      <th>25%</th>\n",
       "      <td>10.000000</td>\n",
       "      <td>52.000000</td>\n",
       "    </tr>\n",
       "    <tr>\n",
       "      <th>50%</th>\n",
       "      <td>11.000000</td>\n",
       "      <td>57.000000</td>\n",
       "    </tr>\n",
       "    <tr>\n",
       "      <th>75%</th>\n",
       "      <td>12.000000</td>\n",
       "      <td>60.000000</td>\n",
       "    </tr>\n",
       "    <tr>\n",
       "      <th>max</th>\n",
       "      <td>20.000000</td>\n",
       "      <td>87.000000</td>\n",
       "    </tr>\n",
       "  </tbody>\n",
       "</table>\n",
       "</div>"
      ]
     },
     "metadata": {},
     "execution_count": 17
    }
   ],
   "metadata": {}
  }
 ],
 "metadata": {
  "orig_nbformat": 4,
  "language_info": {
   "name": "python",
   "version": "3.7.2",
   "mimetype": "text/x-python",
   "codemirror_mode": {
    "name": "ipython",
    "version": 3
   },
   "pygments_lexer": "ipython3",
   "nbconvert_exporter": "python",
   "file_extension": ".py"
  },
  "kernelspec": {
   "name": "python3",
   "display_name": "Python 3.7.2 64-bit ('3.7.2': pyenv)"
  },
  "interpreter": {
   "hash": "4bbfc74c1da272eef8932807e1624d3f3bf895d1320e379bd31a02e7d9a081cd"
  }
 },
 "nbformat": 4,
 "nbformat_minor": 2
}